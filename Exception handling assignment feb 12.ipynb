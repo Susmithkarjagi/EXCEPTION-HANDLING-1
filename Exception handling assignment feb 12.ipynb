{
 "cells": [
  {
   "cell_type": "markdown",
   "id": "0e9073a7-4326-4951-b1b6-d22fbb5a6f38",
   "metadata": {},
   "source": [
    "## EXCEPTION HANDLING ASSIGNMENT"
   ]
  },
  {
   "cell_type": "markdown",
   "id": "1e20d912-4862-4210-87f1-0d61591467c6",
   "metadata": {},
   "source": [
    "Q1.what is an exception in python?write the differences between exceptions and syntax errors."
   ]
  },
  {
   "cell_type": "markdown",
   "id": "45798925-dc46-4ca7-9115-666d769a043e",
   "metadata": {},
   "source": [
    "#ANSWER 1"
   ]
  },
  {
   "cell_type": "markdown",
   "id": "d36836b2-ad13-434c-88fc-37d8efa1d93b",
   "metadata": {},
   "source": [
    "In Python, an exception is an event that occurs during the execution of a program that disrupts the normal flow of the program's instructions. When an exception occurs, the interpreter raises an error message and terminates the program if the exception is not handled properly.\n",
    "\n",
    "There are several types of exceptions in Python, such as IndexError, TypeError, NameError, ValueError, ZeroDivisionError, FileNotFoundError, etc. Each exception represents a specific type of error that can occur during program execution.\n",
    "\n",
    "The main difference between exceptions and syntax errors is that syntax errors are caused by incorrect syntax in the code and prevent the interpreter from executing the code at all, while exceptions occur during program execution and can be handled by the program.\n",
    "\n",
    "The other key differences between exceptions and syntax errors are:\n",
    "\n",
    "Exceptions can be handled with try-except statements, whereas syntax errors cannot.\n",
    "\n",
    "Exceptions occur at runtime, whereas syntax errors occur before runtime during the parsing of the code.\n",
    "\n",
    "Exceptions can be raised intentionally in code to handle specific scenarios, while syntax errors are always unintentional and indicate a problem with the code."
   ]
  },
  {
   "cell_type": "markdown",
   "id": "3d37d0dc-d231-4dad-9094-27a498dac5fd",
   "metadata": {},
   "source": [
    "Q2.what happens when an exception is not handled? explain with an example"
   ]
  },
  {
   "cell_type": "markdown",
   "id": "d1414eb6-218a-4eef-adec-cc5469100f83",
   "metadata": {},
   "source": [
    "#ASNWER 2"
   ]
  },
  {
   "cell_type": "markdown",
   "id": "f0c8942d-8d79-4c6d-995b-109940c8e87c",
   "metadata": {},
   "source": [
    "When an exception is not handled in Python, the program will terminate and an error message will be displayed indicating the type of exception and where it occurred in the program. This is known as an unhandled exception."
   ]
  },
  {
   "cell_type": "markdown",
   "id": "4a71ce7a-8802-40d0-9ae3-ea0245be16f5",
   "metadata": {},
   "source": [
    "here is an example to to open the file which is not existing "
   ]
  },
  {
   "cell_type": "code",
   "execution_count": 2,
   "id": "33d35285-e184-4055-9ed3-4542509889bf",
   "metadata": {},
   "outputs": [
    {
     "name": "stdout",
     "output_type": "stream",
     "text": [
      "An error occurred.\n"
     ]
    }
   ],
   "source": [
    "try:\n",
    "    file = open(\"nonexistentfile.txt\", \"r\")\n",
    "except:\n",
    "    print(\"An error occurred.\")\n"
   ]
  },
  {
   "cell_type": "markdown",
   "id": "983ad206-bd85-4197-9359-bed54b534361",
   "metadata": {},
   "source": [
    "In this code, we use a try-except block to handle any exceptions that may occur when attempting to open the file. However, if we were to remove the try-except block like this:"
   ]
  },
  {
   "cell_type": "code",
   "execution_count": null,
   "id": "09785971-1b95-4ce6-924e-6d8979b09284",
   "metadata": {},
   "outputs": [],
   "source": [
    "file = open(\"nonexistentfile.txt\", \"r\")\n"
   ]
  },
  {
   "cell_type": "markdown",
   "id": "4c808590-9a06-4f29-adb4-a5c4bd828ebe",
   "metadata": {},
   "source": [
    "Then, if the file does not exist, the open() function will raise a FileNotFoundError exception."
   ]
  },
  {
   "cell_type": "markdown",
   "id": "46fa62c6-fd73-43d6-be66-3f9747619cb0",
   "metadata": {},
   "source": [
    "Q3.which python statements are used to catch and handle exceptions? explain with an example"
   ]
  },
  {
   "cell_type": "markdown",
   "id": "51aa0d0e-2d83-418e-8c35-2c5271a6e962",
   "metadata": {},
   "source": [
    "#ANSWER3"
   ]
  },
  {
   "cell_type": "markdown",
   "id": "5cef8ffe-19b0-4737-9f7e-506bc237dda9",
   "metadata": {},
   "source": [
    "In Python, we can catch and handle exceptions using the try and except statements. \n",
    "\n"
   ]
  },
  {
   "cell_type": "code",
   "execution_count": null,
   "id": "c12a7160-223d-4c46-8ccb-997471b435bd",
   "metadata": {},
   "outputs": [],
   "source": [
    "try:\n",
    "    # code that may raise an exception\n",
    "except ExceptionType:\n",
    "    # code to handle the exception\n"
   ]
  },
  {
   "cell_type": "markdown",
   "id": "7b1b886d-eddb-4316-b565-6fc6791416aa",
   "metadata": {},
   "source": [
    "The try block contains the code that may raise an exception, and the except block contains the code to handle the exception if it occurs. The ExceptionType is the type of exception we want to handle. We can use specific exception types such as ValueError, TypeError, ZeroDivisionError, etc., or we can use the base Exception type to catch all types of exceptions."
   ]
  },
  {
   "cell_type": "code",
   "execution_count": null,
   "id": "98cd0c89-f5dc-4bc3-8fc9-31fdd835d02c",
   "metadata": {},
   "outputs": [],
   "source": [
    "EXAMPLE:"
   ]
  },
  {
   "cell_type": "code",
   "execution_count": 6,
   "id": "591d4cdb-b9e6-4454-94da-a126d57e9aa1",
   "metadata": {},
   "outputs": [
    {
     "name": "stdin",
     "output_type": "stream",
     "text": [
      "Enter a number:  $\n"
     ]
    },
    {
     "name": "stdout",
     "output_type": "stream",
     "text": [
      "Invalid input. Please enter a valid integer.\n"
     ]
    }
   ],
   "source": [
    "try:\n",
    "    num = int(input(\"Enter a number: \"))\n",
    "    result = 10 / num\n",
    "    print(result)\n",
    "except ValueError:\n",
    "    print(\"Invalid input. Please enter a valid integer.\")\n",
    "except ZeroDivisionError:\n",
    "    print(\"Cannot divide by zero.\")\n"
   ]
  },
  {
   "cell_type": "markdown",
   "id": "50247d2c-1cd5-467c-b441-b2034cab2c93",
   "metadata": {},
   "source": [
    "In this code, we try to convert user input into an integer, and then perform a division operation with the integer. If the user enters an invalid input (e.g. a non-numeric value), a ValueError exception will be raised. If the user enters a 0, a ZeroDivisionError exception will be raised.\n",
    "\n",
    "The try block contains the code that may raise these exceptions, and the except block contains the code to handle each exception. In this example, we handle the ValueError exception by printing a message indicating the input was invalid, and we handle the ZeroDivisionError exception by printing a message indicating that division by zero is not allowed.\n",
    "\n",
    "By using try-except blocks, we can catch and handle exceptions in our code, which allows our programs to gracefully recover from errors and continue running."
   ]
  },
  {
   "cell_type": "markdown",
   "id": "5e34033d-9697-439b-9c12-42ef15820774",
   "metadata": {},
   "source": [
    "Q4.Explain with an example \n",
    "a. try and else \n",
    "b.finally \n",
    "c.raise "
   ]
  },
  {
   "cell_type": "markdown",
   "id": "1cfd5d60-c927-4ab4-ae52-b6658909d3fc",
   "metadata": {},
   "source": [
    "#ANSWER 4"
   ]
  },
  {
   "cell_type": "markdown",
   "id": "2e46f6b2-f439-4b1e-b7c9-c9d9e138b8e4",
   "metadata": {},
   "source": [
    "a. try and else:\n",
    "\n",
    "In Python, we can use a try and else block to handle situations where we want to execute some code if no exceptions are raised in the try block. The else block is executed only if no exceptions are raised in the try block. Here's an example:"
   ]
  },
  {
   "cell_type": "code",
   "execution_count": 10,
   "id": "584da583-a061-41a5-a135-760be8b53f63",
   "metadata": {},
   "outputs": [
    {
     "name": "stdin",
     "output_type": "stream",
     "text": [
      "Enter a number:  @\n"
     ]
    },
    {
     "name": "stdout",
     "output_type": "stream",
     "text": [
      "Invalid input. Please enter a valid integer.\n"
     ]
    }
   ],
   "source": [
    "try:\n",
    "    num = int(input(\"Enter a number: \"))\n",
    "except ValueError:\n",
    "    print(\"Invalid input. Please enter a valid integer.\")\n",
    "else:\n",
    "    result = 10 / num\n",
    "    print(result)\n"
   ]
  },
  {
   "cell_type": "markdown",
   "id": "38f70dd2-67e8-4c6d-9883-63d66a1f7a58",
   "metadata": {},
   "source": [
    "In this code, we first try to convert user input into an integer. If the user enters an invalid input (e.g. a non-numeric value), a ValueError exception will be raised and the code inside the except block will be executed. If the user enters a valid input, the code inside the else block will be executed, where we perform a division operation and print the result.\n",
    "\n",
    "Using a try and else block can help us separate the code that might raise an exception from the code that should execute only if no exception is raised."
   ]
  },
  {
   "cell_type": "markdown",
   "id": "b4ed3ae2-63f3-45f0-a43b-911ae8718153",
   "metadata": {},
   "source": [
    "b. finally:"
   ]
  },
  {
   "cell_type": "markdown",
   "id": "a191a8b4-c1e2-4c7e-a511-147867f4b296",
   "metadata": {},
   "source": [
    "In Python, we can use a finally block to ensure that some code is always executed, regardless of whether an exception is raised or not. Here's an example:"
   ]
  },
  {
   "cell_type": "code",
   "execution_count": 15,
   "id": "a0c86498-012d-41a0-8854-a010e117128f",
   "metadata": {},
   "outputs": [
    {
     "name": "stdout",
     "output_type": "stream",
     "text": [
      "File not found.\n"
     ]
    },
    {
     "ename": "NameError",
     "evalue": "name 'f' is not defined",
     "output_type": "error",
     "traceback": [
      "\u001b[0;31m---------------------------------------------------------------------------\u001b[0m",
      "\u001b[0;31mNameError\u001b[0m                                 Traceback (most recent call last)",
      "Cell \u001b[0;32mIn[15], line 8\u001b[0m\n\u001b[1;32m      6\u001b[0m     \u001b[38;5;28mprint\u001b[39m(\u001b[38;5;124m\"\u001b[39m\u001b[38;5;124mFile not found.\u001b[39m\u001b[38;5;124m\"\u001b[39m)\n\u001b[1;32m      7\u001b[0m \u001b[38;5;28;01mfinally\u001b[39;00m:\n\u001b[0;32m----> 8\u001b[0m     \u001b[43mf\u001b[49m\u001b[38;5;241m.\u001b[39mclose()\n",
      "\u001b[0;31mNameError\u001b[0m: name 'f' is not defined"
     ]
    }
   ],
   "source": [
    "try:\n",
    "    f = open(\"example.txt\", \"r\")\n",
    "    content = f.read()\n",
    "    print(content)\n",
    "except FileNotFoundError:\n",
    "    print(\"File not found.\")\n",
    "finally:\n",
    "    f.close()\n"
   ]
  },
  {
   "cell_type": "markdown",
   "id": "65445848-84ad-4ab4-a01c-f8b4cf1a3ac5",
   "metadata": {},
   "source": [
    "In this code, we try to open a file named example.txt and read its contents. If the file does not exist, a FileNotFoundError exception will be raised. Regardless of whether the exception is raised or not, the finally block will be executed after the try or except block is executed.\n",
    "\n",
    "In the finally block, we close the file using the close() method. This is important to ensure that the file is properly closed and its resources are freed, even if an exception is raised."
   ]
  },
  {
   "cell_type": "markdown",
   "id": "8671ac2f-7e27-4bd0-a86b-5bb130aee136",
   "metadata": {},
   "source": [
    "c. raise:"
   ]
  },
  {
   "cell_type": "markdown",
   "id": "e817fbed-2f08-4767-9f0c-a5f76fd026b5",
   "metadata": {},
   "source": [
    "In Python, we can use the raise statement to raise an exception manually. This is useful when we want to raise an exception in response to a certain condition or situation that is not covered by built-in exceptions. Here's an example:"
   ]
  },
  {
   "cell_type": "code",
   "execution_count": 20,
   "id": "bd40b4d4-a282-485d-aaa0-c27277480801",
   "metadata": {},
   "outputs": [
    {
     "name": "stdin",
     "output_type": "stream",
     "text": [
      "enter age 17\n"
     ]
    },
    {
     "ename": "ValueError",
     "evalue": "You must be 18 or older to vote.",
     "output_type": "error",
     "traceback": [
      "\u001b[0;31m---------------------------------------------------------------------------\u001b[0m",
      "\u001b[0;31mValueError\u001b[0m                                Traceback (most recent call last)",
      "Cell \u001b[0;32mIn[20], line 3\u001b[0m\n\u001b[1;32m      1\u001b[0m age \u001b[38;5;241m=\u001b[39m \u001b[38;5;28mint\u001b[39m(\u001b[38;5;28minput\u001b[39m(\u001b[38;5;124m\"\u001b[39m\u001b[38;5;124menter age\u001b[39m\u001b[38;5;124m\"\u001b[39m))\n\u001b[1;32m      2\u001b[0m \u001b[38;5;28;01mif\u001b[39;00m age \u001b[38;5;241m<\u001b[39m \u001b[38;5;241m18\u001b[39m:\n\u001b[0;32m----> 3\u001b[0m     \u001b[38;5;28;01mraise\u001b[39;00m \u001b[38;5;167;01mValueError\u001b[39;00m(\u001b[38;5;124m\"\u001b[39m\u001b[38;5;124mYou must be 18 or older to vote.\u001b[39m\u001b[38;5;124m\"\u001b[39m)\n",
      "\u001b[0;31mValueError\u001b[0m: You must be 18 or older to vote."
     ]
    }
   ],
   "source": [
    "age = int(input(\"enter age\"))\n",
    "if age < 18:\n",
    "    raise ValueError(\"You must be 18 or older to vote.\")\n"
   ]
  },
  {
   "cell_type": "markdown",
   "id": "591fa0e9-e62f-4bc7-af28-76e1d537b888",
   "metadata": {},
   "source": [
    "In this code, we check if a user's age is less than 18. If it is, we raise a ValueError exception with a message indicating that the user must be 18 or older to vote.\n",
    "\n",
    "Using the raise statement allows us to handle exceptional situations in our code and provide more meaningful error messages for the user."
   ]
  },
  {
   "cell_type": "markdown",
   "id": "2a066a71-d025-4042-b3e6-e7ce4b7525bb",
   "metadata": {},
   "source": [
    "Q5.what are custom exceptions in python? why do we need custom exceptions? explain with an example"
   ]
  },
  {
   "cell_type": "markdown",
   "id": "ef3fcb63-93c0-4f2f-acee-2234f0d96a11",
   "metadata": {},
   "source": [
    "#ANSWER 5"
   ]
  },
  {
   "cell_type": "markdown",
   "id": "21dd2be7-98ec-405f-b33e-bfcbe5cd5f33",
   "metadata": {},
   "source": [
    "Custom exceptions in Python are exceptions that we can create ourselves, to represent specific errors or exceptional situations that are not covered by the built-in exceptions. We can create custom exceptions by subclassing the built-in Exception class or any of its subclasses.\n",
    "\n",
    "We need custom exceptions when we want to raise exceptions that are more specific and informative than the built-in exceptions. By raising custom exceptions, we can provide more meaningful error messages and help users understand what went wrong and how to fix it."
   ]
  },
  {
   "cell_type": "markdown",
   "id": "4bd4166e-787c-4b27-88d5-0d3a61e78948",
   "metadata": {},
   "source": [
    "Here's an example of how to create and use a custom exception in Python:"
   ]
  },
  {
   "cell_type": "code",
   "execution_count": 21,
   "id": "e6d190c0-51fb-4fce-a89f-92cbe55ba71c",
   "metadata": {},
   "outputs": [
    {
     "name": "stdout",
     "output_type": "stream",
     "text": [
      "Error: Cannot divide by zero\n"
     ]
    }
   ],
   "source": [
    "class InvalidInputError(Exception):\n",
    "    pass\n",
    "\n",
    "def divide_numbers(a, b):\n",
    "    if b == 0:\n",
    "        raise InvalidInputError(\"Cannot divide by zero\")\n",
    "    return a / b\n",
    "\n",
    "try:\n",
    "    result = divide_numbers(10, 0)\n",
    "except InvalidInputError as e:\n",
    "    print(f\"Error: {str(e)}\")\n",
    "else:\n",
    "    print(f\"The result is {result}\")\n"
   ]
  },
  {
   "cell_type": "markdown",
   "id": "568f3d36-7bf3-4ff7-b105-46282191f746",
   "metadata": {},
   "source": [
    "In this example, we define a custom exception InvalidInputError that inherits from the built-in Exception class. We also define a function divide_numbers that takes two arguments a and b, and raises an InvalidInputError exception if b is zero.\n",
    "\n",
    "In the try block, we call the divide_numbers function with arguments 10 and 0, which should trigger the InvalidInputError exception. The except block catches the exception and prints an error message.\n",
    "\n",
    "If b was not zero and the division is successful, the else block would execute and print the result."
   ]
  },
  {
   "cell_type": "markdown",
   "id": "e68193b5-279f-402c-91fb-f6ca5a9ed055",
   "metadata": {},
   "source": [
    "Q6.create a custom exception class. use this class to handle an exception."
   ]
  },
  {
   "cell_type": "markdown",
   "id": "b4c0e5d4-3f46-4577-a576-91e89d945867",
   "metadata": {},
   "source": [
    "#ANSWER 6"
   ]
  },
  {
   "cell_type": "code",
   "execution_count": 22,
   "id": "122bf4b7-4480-49eb-8499-192a1000ebc9",
   "metadata": {},
   "outputs": [
    {
     "name": "stdout",
     "output_type": "stream",
     "text": [
      "Cannot calculate square root of a negative number.\n"
     ]
    }
   ],
   "source": [
    "class NegativeNumberException(Exception):\n",
    "    pass\n",
    "\n",
    "def calculate_square_root(n):\n",
    "    if n < 0:\n",
    "        raise NegativeNumberException(\"Cannot calculate square root of a negative number.\")\n",
    "    return n ** 0.5\n",
    "\n",
    "try:\n",
    "    result = calculate_square_root(-4)\n",
    "    print(result)\n",
    "except NegativeNumberException as e:\n",
    "    print(e)\n"
   ]
  },
  {
   "cell_type": "markdown",
   "id": "5025c061-aa94-4bd8-b2e0-fa1d3cbb8a23",
   "metadata": {},
   "source": [
    "In this code, we define a custom exception class called NegativeNumberException by subclassing the built-in Exception class. We then define a function called calculate_square_root that takes a number as input and checks if it is negative. If it is, we raise a NegativeNumberException exception with a message indicating that we cannot calculate the square root of a negative number.\n",
    "\n",
    "In the main code, we call the calculate_square_root function with a negative number and catch the NegativeNumberException exception using a try and except block. We then print the error message associated with the exception.\n",
    "\n",
    "Using a custom exception in this way helps us provide a more specific error message for the user and makes it easier to debug the code."
   ]
  },
  {
   "cell_type": "code",
   "execution_count": null,
   "id": "4e64ced0-d6fa-4bc2-a49c-c268e5bffeea",
   "metadata": {},
   "outputs": [],
   "source": []
  }
 ],
 "metadata": {
  "kernelspec": {
   "display_name": "Python 3 (ipykernel)",
   "language": "python",
   "name": "python3"
  },
  "language_info": {
   "codemirror_mode": {
    "name": "ipython",
    "version": 3
   },
   "file_extension": ".py",
   "mimetype": "text/x-python",
   "name": "python",
   "nbconvert_exporter": "python",
   "pygments_lexer": "ipython3",
   "version": "3.10.8"
  }
 },
 "nbformat": 4,
 "nbformat_minor": 5
}
